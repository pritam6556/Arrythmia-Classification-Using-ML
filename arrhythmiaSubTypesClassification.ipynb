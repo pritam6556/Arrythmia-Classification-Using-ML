{
 "cells": [
  {
   "cell_type": "markdown",
   "metadata": {
    "papermill": {
     "duration": 0.036307,
     "end_time": "2020-11-07T11:44:29.583593",
     "exception": false,
     "start_time": "2020-11-07T11:44:29.547286",
     "status": "completed"
    },
    "tags": []
   },
   "source": [
    "# **In *silico* categorization of arrhythmia subtypes from ECG recordings.**"
   ]
  },
  {
   "cell_type": "code",
   "execution_count": 1,
   "metadata": {
    "execution": {
     "iopub.execute_input": "2020-11-07T11:44:29.662438Z",
     "iopub.status.busy": "2020-11-07T11:44:29.661600Z",
     "iopub.status.idle": "2020-11-07T11:44:37.168028Z",
     "shell.execute_reply": "2020-11-07T11:44:37.166390Z"
    },
    "papermill": {
     "duration": 7.551809,
     "end_time": "2020-11-07T11:44:37.168251",
     "exception": false,
     "start_time": "2020-11-07T11:44:29.616442",
     "status": "completed"
    },
    "tags": []
   },
   "outputs": [],
   "source": [
    "import os\n",
    "import pywt\n",
    "import time\n",
    "import random\n",
    "import itertools\n",
    "import numpy as np\n",
    "import pandas as pd\n",
    "import tensorflow as tf\n",
    "from sklearn.svm import SVC\n",
    "from tensorflow import keras\n",
    "import matplotlib.pyplot as plt\n",
    "from sklearn.utils import shuffle\n",
    "from sklearn.utils import resample\n",
    "from keras.models import Sequential\n",
    "from imblearn.pipeline import Pipeline\n",
    "from imblearn.over_sampling import SMOTE\n",
    "from sklearn.pipeline import make_pipeline\n",
    "from keras.layers import Dense, Activation\n",
    "from sklearn.metrics import confusion_matrix\n",
    "from keras.utils.np_utils import to_categorical\n",
    "from sklearn.preprocessing import StandardScaler\n",
    "from sklearn.model_selection import train_test_split\n",
    "from imblearn.under_sampling import RandomUnderSampler\n",
    "from keras.wrappers.scikit_learn import KerasClassifier\n",
    "from keras.layers.normalization import BatchNormalization\n",
    "from keras.callbacks import EarlyStopping, ModelCheckpoint\n",
    "from sklearn.metrics import precision_recall_fscore_support\n",
    "from keras.layers import Dense, Activation, Flatten, Convolution1D, Dropout,MaxPooling1D,GlobalAveragePooling1D\n",
    "\n",
    "tf.random.set_seed(42)\n",
    "np.random.seed(42)"
   ]
  },
  {
   "cell_type": "markdown",
   "metadata": {
    "papermill": {
     "duration": 0.039218,
     "end_time": "2020-11-07T11:44:37.247975",
     "exception": false,
     "start_time": "2020-11-07T11:44:37.208757",
     "status": "completed"
    },
    "tags": []
   },
   "source": [
    "## **Load Data**"
   ]
  },
  {
   "cell_type": "code",
   "execution_count": 2,
   "metadata": {
    "_cell_guid": "b1076dfc-b9ad-4769-8c92-a6c4dae69d19",
    "_uuid": "8f2839f25d086af736a60e9eeb907d3b93b6e0e5",
    "execution": {
     "iopub.execute_input": "2020-11-07T11:44:37.328134Z",
     "iopub.status.busy": "2020-11-07T11:44:37.327217Z",
     "iopub.status.idle": "2020-11-07T11:44:37.334425Z",
     "shell.execute_reply": "2020-11-07T11:44:37.335082Z"
    },
    "papermill": {
     "duration": 0.053438,
     "end_time": "2020-11-07T11:44:37.335259",
     "exception": false,
     "start_time": "2020-11-07T11:44:37.281821",
     "status": "completed"
    },
    "tags": []
   },
   "outputs": [
    {
     "name": "stdout",
     "output_type": "stream",
     "text": [
      "/kaggle/input/heartbeat/mitbih_test.csv\n",
      "/kaggle/input/heartbeat/mitbih_train.csv\n",
      "/kaggle/input/heartbeat/ptbdb_abnormal.csv\n",
      "/kaggle/input/heartbeat/ptbdb_normal.csv\n"
     ]
    }
   ],
   "source": [
    "# view all files in the dataset\n",
    "for dirname, _, filenames in os.walk('/kaggle/input'):\n",
    "    for filename in filenames:\n",
    "        print(os.path.join(dirname, filename))"
   ]
  },
  {
   "cell_type": "markdown",
   "metadata": {
    "papermill": {
     "duration": 0.042804,
     "end_time": "2020-11-07T11:44:37.423212",
     "exception": false,
     "start_time": "2020-11-07T11:44:37.380408",
     "status": "completed"
    },
    "tags": []
   },
   "source": [
    "## BIH-Arrhythmia Dataset\n",
    "Twenty-three recordings were chosen at random from a set of 4000 24-hour ambulatory ECG recordings collected from a mixed population of inpatients (about 60%) and outpatients (about 40%) at Boston's Beth Israel Hospital; the remaining 25 recordings were selected from the same set to include less common but clinically significant arrhythmias that would not be well-represented in a small random sample.\n",
    "\n",
    "* **Number of Samples:** 109446\n",
    "* **Number of Categories:** 5\n",
    "* **Sampling Frequency:** 125Hz\n",
    "* **Data Source:** Physionet's MIT-BIH Arrhythmia Dataset (https://physionet.org/content/mitdb/1.0.0/)\n",
    "* **Classes:**\n",
    "    *     Non-ecotic beats (normal beat) ('N'): 0\n",
    "    *     Supraventricular ectopic beats ('S'): 1\n",
    "    *     Ventricular ectopic beats ('V'): 2\n",
    "    *     Fusion Beats ('F'): 3\n",
    "    *     Unknown Beats ('Q'): 4"
   ]
  },
  {
   "cell_type": "code",
   "execution_count": 3,
   "metadata": {
    "_cell_guid": "79c7e3d0-c299-4dcb-8224-4455121ee9b0",
    "_uuid": "d629ff2d2480ee46fbb7e2d37f6b5fab8052498a",
    "execution": {
     "iopub.execute_input": "2020-11-07T11:44:37.501176Z",
     "iopub.status.busy": "2020-11-07T11:44:37.500191Z",
     "iopub.status.idle": "2020-11-07T11:44:45.623877Z",
     "shell.execute_reply": "2020-11-07T11:44:45.623016Z"
    },
    "papermill": {
     "duration": 8.166407,
     "end_time": "2020-11-07T11:44:45.624019",
     "exception": false,
     "start_time": "2020-11-07T11:44:37.457612",
     "status": "completed"
    },
    "tags": []
   },
   "outputs": [],
   "source": [
    "# import MIT-BIH Arrhythmia Data\n",
    "data_train = pd.read_csv('../input/heartbeat/mitbih_train.csv',header=None)\n",
    "data_test = pd.read_csv('../input/heartbeat/mitbih_test.csv',header=None)"
   ]
  },
  {
   "cell_type": "code",
   "execution_count": 4,
   "metadata": {
    "execution": {
     "iopub.execute_input": "2020-11-07T11:44:45.704539Z",
     "iopub.status.busy": "2020-11-07T11:44:45.703728Z",
     "iopub.status.idle": "2020-11-07T11:44:45.709713Z",
     "shell.execute_reply": "2020-11-07T11:44:45.710267Z"
    },
    "papermill": {
     "duration": 0.052007,
     "end_time": "2020-11-07T11:44:45.710433",
     "exception": false,
     "start_time": "2020-11-07T11:44:45.658426",
     "status": "completed"
    },
    "tags": []
   },
   "outputs": [
    {
     "name": "stdout",
     "output_type": "stream",
     "text": [
      "BIH train class label: [0.0, 1.0, 2.0, 3.0, 4.0]\n",
      "BIH test class label: [0.0, 1.0, 2.0, 3.0, 4.0]\n"
     ]
    }
   ],
   "source": [
    "# check class labels of BIH dataset\n",
    "print(\"BIH train class label: \" + str(list(data_train[data_train.columns[-1]].unique())))\n",
    "print(\"BIH test class label: \" + str(list(data_test[data_test.columns[-1]].unique())))"
   ]
  },
  {
   "cell_type": "code",
   "execution_count": 5,
   "metadata": {
    "execution": {
     "iopub.execute_input": "2020-11-07T11:44:45.787069Z",
     "iopub.status.busy": "2020-11-07T11:44:45.786208Z",
     "iopub.status.idle": "2020-11-07T11:44:45.927351Z",
     "shell.execute_reply": "2020-11-07T11:44:45.927941Z"
    },
    "papermill": {
     "duration": 0.183969,
     "end_time": "2020-11-07T11:44:45.928124",
     "exception": false,
     "start_time": "2020-11-07T11:44:45.744155",
     "status": "completed"
    },
    "tags": []
   },
   "outputs": [],
   "source": [
    "# shuffle the DataFrame rows \n",
    "data_train = data_train.sample(frac = 1)\n",
    "data_test = data_test.sample(frac = 1)"
   ]
  },
  {
   "cell_type": "markdown",
   "metadata": {
    "papermill": {
     "duration": 0.033064,
     "end_time": "2020-11-07T11:44:45.995492",
     "exception": false,
     "start_time": "2020-11-07T11:44:45.962428",
     "status": "completed"
    },
    "tags": []
   },
   "source": [
    "## **Exploratory analysis**"
   ]
  },
  {
   "cell_type": "code",
   "execution_count": 6,
   "metadata": {
    "execution": {
     "iopub.execute_input": "2020-11-07T11:44:46.069404Z",
     "iopub.status.busy": "2020-11-07T11:44:46.068411Z",
     "iopub.status.idle": "2020-11-07T11:44:46.073751Z",
     "shell.execute_reply": "2020-11-07T11:44:46.072222Z"
    },
    "papermill": {
     "duration": 0.04471,
     "end_time": "2020-11-07T11:44:46.073916",
     "exception": false,
     "start_time": "2020-11-07T11:44:46.029206",
     "status": "completed"
    },
    "tags": []
   },
   "outputs": [
    {
     "name": "stdout",
     "output_type": "stream",
     "text": [
      "Training dataset shape:\n",
      "(87554, 188)\n",
      "Test dataset shape:\n",
      "(21892, 188)\n"
     ]
    }
   ],
   "source": [
    "print(\"Training dataset shape:\")\n",
    "print(data_train.shape)\n",
    "print(\"Test dataset shape:\")\n",
    "print(data_test.shape)"
   ]
  },
  {
   "cell_type": "code",
   "execution_count": 7,
   "metadata": {
    "execution": {
     "iopub.execute_input": "2020-11-07T11:44:46.199566Z",
     "iopub.status.busy": "2020-11-07T11:44:46.198805Z",
     "iopub.status.idle": "2020-11-07T11:44:47.194070Z",
     "shell.execute_reply": "2020-11-07T11:44:47.192993Z"
    },
    "papermill": {
     "duration": 1.083777,
     "end_time": "2020-11-07T11:44:47.194231",
     "exception": false,
     "start_time": "2020-11-07T11:44:46.110454",
     "status": "completed"
    },
    "tags": []
   },
   "outputs": [
    {
     "data": {
      "text/html": [
       "<div>\n",
       "<style scoped>\n",
       "    .dataframe tbody tr th:only-of-type {\n",
       "        vertical-align: middle;\n",
       "    }\n",
       "\n",
       "    .dataframe tbody tr th {\n",
       "        vertical-align: top;\n",
       "    }\n",
       "\n",
       "    .dataframe thead th {\n",
       "        text-align: right;\n",
       "    }\n",
       "</style>\n",
       "<table border=\"1\" class=\"dataframe\">\n",
       "  <thead>\n",
       "    <tr style=\"text-align: right;\">\n",
       "      <th></th>\n",
       "      <th>0</th>\n",
       "      <th>1</th>\n",
       "      <th>2</th>\n",
       "      <th>3</th>\n",
       "      <th>4</th>\n",
       "      <th>5</th>\n",
       "      <th>6</th>\n",
       "      <th>7</th>\n",
       "      <th>8</th>\n",
       "      <th>9</th>\n",
       "      <th>...</th>\n",
       "      <th>178</th>\n",
       "      <th>179</th>\n",
       "      <th>180</th>\n",
       "      <th>181</th>\n",
       "      <th>182</th>\n",
       "      <th>183</th>\n",
       "      <th>184</th>\n",
       "      <th>185</th>\n",
       "      <th>186</th>\n",
       "      <th>187</th>\n",
       "    </tr>\n",
       "  </thead>\n",
       "  <tbody>\n",
       "    <tr>\n",
       "      <th>count</th>\n",
       "      <td>87554.000000</td>\n",
       "      <td>87554.000000</td>\n",
       "      <td>87554.000000</td>\n",
       "      <td>87554.000000</td>\n",
       "      <td>87554.000000</td>\n",
       "      <td>87554.000000</td>\n",
       "      <td>87554.000000</td>\n",
       "      <td>87554.000000</td>\n",
       "      <td>87554.000000</td>\n",
       "      <td>87554.000000</td>\n",
       "      <td>...</td>\n",
       "      <td>87554.000000</td>\n",
       "      <td>87554.000000</td>\n",
       "      <td>87554.000000</td>\n",
       "      <td>87554.000000</td>\n",
       "      <td>87554.000000</td>\n",
       "      <td>87554.000000</td>\n",
       "      <td>87554.000000</td>\n",
       "      <td>87554.000000</td>\n",
       "      <td>87554.000000</td>\n",
       "      <td>87554.000000</td>\n",
       "    </tr>\n",
       "    <tr>\n",
       "      <th>mean</th>\n",
       "      <td>0.890360</td>\n",
       "      <td>0.758160</td>\n",
       "      <td>0.423972</td>\n",
       "      <td>0.219104</td>\n",
       "      <td>0.201127</td>\n",
       "      <td>0.210399</td>\n",
       "      <td>0.205808</td>\n",
       "      <td>0.201773</td>\n",
       "      <td>0.198691</td>\n",
       "      <td>0.196757</td>\n",
       "      <td>...</td>\n",
       "      <td>0.005025</td>\n",
       "      <td>0.004628</td>\n",
       "      <td>0.004291</td>\n",
       "      <td>0.003945</td>\n",
       "      <td>0.003681</td>\n",
       "      <td>0.003471</td>\n",
       "      <td>0.003221</td>\n",
       "      <td>0.002945</td>\n",
       "      <td>0.002807</td>\n",
       "      <td>0.473376</td>\n",
       "    </tr>\n",
       "    <tr>\n",
       "      <th>std</th>\n",
       "      <td>0.240909</td>\n",
       "      <td>0.221813</td>\n",
       "      <td>0.227305</td>\n",
       "      <td>0.206878</td>\n",
       "      <td>0.177058</td>\n",
       "      <td>0.171909</td>\n",
       "      <td>0.178481</td>\n",
       "      <td>0.177240</td>\n",
       "      <td>0.171778</td>\n",
       "      <td>0.168357</td>\n",
       "      <td>...</td>\n",
       "      <td>0.044154</td>\n",
       "      <td>0.042089</td>\n",
       "      <td>0.040525</td>\n",
       "      <td>0.038651</td>\n",
       "      <td>0.037193</td>\n",
       "      <td>0.036255</td>\n",
       "      <td>0.034789</td>\n",
       "      <td>0.032865</td>\n",
       "      <td>0.031924</td>\n",
       "      <td>1.143184</td>\n",
       "    </tr>\n",
       "    <tr>\n",
       "      <th>min</th>\n",
       "      <td>0.000000</td>\n",
       "      <td>0.000000</td>\n",
       "      <td>0.000000</td>\n",
       "      <td>0.000000</td>\n",
       "      <td>0.000000</td>\n",
       "      <td>0.000000</td>\n",
       "      <td>0.000000</td>\n",
       "      <td>0.000000</td>\n",
       "      <td>0.000000</td>\n",
       "      <td>0.000000</td>\n",
       "      <td>...</td>\n",
       "      <td>0.000000</td>\n",
       "      <td>0.000000</td>\n",
       "      <td>0.000000</td>\n",
       "      <td>0.000000</td>\n",
       "      <td>0.000000</td>\n",
       "      <td>0.000000</td>\n",
       "      <td>0.000000</td>\n",
       "      <td>0.000000</td>\n",
       "      <td>0.000000</td>\n",
       "      <td>0.000000</td>\n",
       "    </tr>\n",
       "    <tr>\n",
       "      <th>25%</th>\n",
       "      <td>0.921922</td>\n",
       "      <td>0.682486</td>\n",
       "      <td>0.250969</td>\n",
       "      <td>0.048458</td>\n",
       "      <td>0.082329</td>\n",
       "      <td>0.088416</td>\n",
       "      <td>0.073333</td>\n",
       "      <td>0.066116</td>\n",
       "      <td>0.065000</td>\n",
       "      <td>0.068639</td>\n",
       "      <td>...</td>\n",
       "      <td>0.000000</td>\n",
       "      <td>0.000000</td>\n",
       "      <td>0.000000</td>\n",
       "      <td>0.000000</td>\n",
       "      <td>0.000000</td>\n",
       "      <td>0.000000</td>\n",
       "      <td>0.000000</td>\n",
       "      <td>0.000000</td>\n",
       "      <td>0.000000</td>\n",
       "      <td>0.000000</td>\n",
       "    </tr>\n",
       "    <tr>\n",
       "      <th>50%</th>\n",
       "      <td>0.991342</td>\n",
       "      <td>0.826013</td>\n",
       "      <td>0.429472</td>\n",
       "      <td>0.166000</td>\n",
       "      <td>0.147878</td>\n",
       "      <td>0.158798</td>\n",
       "      <td>0.145324</td>\n",
       "      <td>0.144424</td>\n",
       "      <td>0.150000</td>\n",
       "      <td>0.148734</td>\n",
       "      <td>...</td>\n",
       "      <td>0.000000</td>\n",
       "      <td>0.000000</td>\n",
       "      <td>0.000000</td>\n",
       "      <td>0.000000</td>\n",
       "      <td>0.000000</td>\n",
       "      <td>0.000000</td>\n",
       "      <td>0.000000</td>\n",
       "      <td>0.000000</td>\n",
       "      <td>0.000000</td>\n",
       "      <td>0.000000</td>\n",
       "    </tr>\n",
       "    <tr>\n",
       "      <th>75%</th>\n",
       "      <td>1.000000</td>\n",
       "      <td>0.910506</td>\n",
       "      <td>0.578767</td>\n",
       "      <td>0.341727</td>\n",
       "      <td>0.258993</td>\n",
       "      <td>0.287628</td>\n",
       "      <td>0.298237</td>\n",
       "      <td>0.295391</td>\n",
       "      <td>0.290832</td>\n",
       "      <td>0.283636</td>\n",
       "      <td>...</td>\n",
       "      <td>0.000000</td>\n",
       "      <td>0.000000</td>\n",
       "      <td>0.000000</td>\n",
       "      <td>0.000000</td>\n",
       "      <td>0.000000</td>\n",
       "      <td>0.000000</td>\n",
       "      <td>0.000000</td>\n",
       "      <td>0.000000</td>\n",
       "      <td>0.000000</td>\n",
       "      <td>0.000000</td>\n",
       "    </tr>\n",
       "    <tr>\n",
       "      <th>max</th>\n",
       "      <td>1.000000</td>\n",
       "      <td>1.000000</td>\n",
       "      <td>1.000000</td>\n",
       "      <td>1.000000</td>\n",
       "      <td>1.000000</td>\n",
       "      <td>1.000000</td>\n",
       "      <td>1.000000</td>\n",
       "      <td>1.000000</td>\n",
       "      <td>1.000000</td>\n",
       "      <td>1.000000</td>\n",
       "      <td>...</td>\n",
       "      <td>1.000000</td>\n",
       "      <td>1.000000</td>\n",
       "      <td>1.000000</td>\n",
       "      <td>1.000000</td>\n",
       "      <td>1.000000</td>\n",
       "      <td>1.000000</td>\n",
       "      <td>1.000000</td>\n",
       "      <td>1.000000</td>\n",
       "      <td>1.000000</td>\n",
       "      <td>4.000000</td>\n",
       "    </tr>\n",
       "  </tbody>\n",
       "</table>\n",
       "<p>8 rows × 188 columns</p>\n",
       "</div>"
      ],
      "text/plain": [
       "                0             1             2             3             4    \\\n",
       "count  87554.000000  87554.000000  87554.000000  87554.000000  87554.000000   \n",
       "mean       0.890360      0.758160      0.423972      0.219104      0.201127   \n",
       "std        0.240909      0.221813      0.227305      0.206878      0.177058   \n",
       "min        0.000000      0.000000      0.000000      0.000000      0.000000   \n",
       "25%        0.921922      0.682486      0.250969      0.048458      0.082329   \n",
       "50%        0.991342      0.826013      0.429472      0.166000      0.147878   \n",
       "75%        1.000000      0.910506      0.578767      0.341727      0.258993   \n",
       "max        1.000000      1.000000      1.000000      1.000000      1.000000   \n",
       "\n",
       "                5             6             7             8             9    \\\n",
       "count  87554.000000  87554.000000  87554.000000  87554.000000  87554.000000   \n",
       "mean       0.210399      0.205808      0.201773      0.198691      0.196757   \n",
       "std        0.171909      0.178481      0.177240      0.171778      0.168357   \n",
       "min        0.000000      0.000000      0.000000      0.000000      0.000000   \n",
       "25%        0.088416      0.073333      0.066116      0.065000      0.068639   \n",
       "50%        0.158798      0.145324      0.144424      0.150000      0.148734   \n",
       "75%        0.287628      0.298237      0.295391      0.290832      0.283636   \n",
       "max        1.000000      1.000000      1.000000      1.000000      1.000000   \n",
       "\n",
       "       ...           178           179           180           181  \\\n",
       "count  ...  87554.000000  87554.000000  87554.000000  87554.000000   \n",
       "mean   ...      0.005025      0.004628      0.004291      0.003945   \n",
       "std    ...      0.044154      0.042089      0.040525      0.038651   \n",
       "min    ...      0.000000      0.000000      0.000000      0.000000   \n",
       "25%    ...      0.000000      0.000000      0.000000      0.000000   \n",
       "50%    ...      0.000000      0.000000      0.000000      0.000000   \n",
       "75%    ...      0.000000      0.000000      0.000000      0.000000   \n",
       "max    ...      1.000000      1.000000      1.000000      1.000000   \n",
       "\n",
       "                182           183           184           185           186  \\\n",
       "count  87554.000000  87554.000000  87554.000000  87554.000000  87554.000000   \n",
       "mean       0.003681      0.003471      0.003221      0.002945      0.002807   \n",
       "std        0.037193      0.036255      0.034789      0.032865      0.031924   \n",
       "min        0.000000      0.000000      0.000000      0.000000      0.000000   \n",
       "25%        0.000000      0.000000      0.000000      0.000000      0.000000   \n",
       "50%        0.000000      0.000000      0.000000      0.000000      0.000000   \n",
       "75%        0.000000      0.000000      0.000000      0.000000      0.000000   \n",
       "max        1.000000      1.000000      1.000000      1.000000      1.000000   \n",
       "\n",
       "                187  \n",
       "count  87554.000000  \n",
       "mean       0.473376  \n",
       "std        1.143184  \n",
       "min        0.000000  \n",
       "25%        0.000000  \n",
       "50%        0.000000  \n",
       "75%        0.000000  \n",
       "max        4.000000  \n",
       "\n",
       "[8 rows x 188 columns]"
      ]
     },
     "execution_count": 7,
     "metadata": {},
     "output_type": "execute_result"
    }
   ],
   "source": [
    "data_train.describe()"
   ]
  },
  {
   "cell_type": "markdown",
   "metadata": {
    "papermill": {
     "duration": 0.035493,
     "end_time": "2020-11-07T11:44:47.266073",
     "exception": false,
     "start_time": "2020-11-07T11:44:47.230580",
     "status": "completed"
    },
    "tags": []
   },
   "source": [
    "Each feature values ranges between zero and one. The last column contains the class label."
   ]
  },
  {
   "cell_type": "code",
   "execution_count": 8,
   "metadata": {
    "execution": {
     "iopub.execute_input": "2020-11-07T11:44:47.346128Z",
     "iopub.status.busy": "2020-11-07T11:44:47.345267Z",
     "iopub.status.idle": "2020-11-07T11:44:47.629389Z",
     "shell.execute_reply": "2020-11-07T11:44:47.628603Z"
    },
    "papermill": {
     "duration": 0.327173,
     "end_time": "2020-11-07T11:44:47.629528",
     "exception": false,
     "start_time": "2020-11-07T11:44:47.302355",
     "status": "completed"
    },
    "tags": []
   },
   "outputs": [
    {
     "data": {
      "image/png": "[encoded data removed]",
      "text/plain": [
       "<Figure size 1080x288 with 2 Axes>"
      ]
     },
     "metadata": {
      "needs_background": "light"
     },
     "output_type": "display_data"
    }
   ],
   "source": [
    "# plot two randomly selected ECG data from the training set\n",
    "plt.figure(figsize=(15,4))\n",
    "plt.subplot(211)\n",
    "plt.plot(data_train.iloc[random.randint(0,len(data_train)),:187])\n",
    "plt.gca().axes.get_xaxis().set_ticks([])\n",
    "plt.subplot(212)\n",
    "plt.plot(data_train.iloc[random.randint(0,len(data_train)),:187])\n",
    "plt.show()"
   ]
  },
  {
   "cell_type": "markdown",
   "metadata": {
    "papermill": {
     "duration": 0.03797,
     "end_time": "2020-11-07T11:44:47.705104",
     "exception": false,
     "start_time": "2020-11-07T11:44:47.667134",
     "status": "completed"
    },
    "tags": []
   },
   "source": [
    "From the figure above it can be observed that all recordings are not of the same length, and are zero padded."
   ]
  },
  {
   "cell_type": "code",
   "execution_count": 9,
   "metadata": {
    "execution": {
     "iopub.execute_input": "2020-11-07T11:44:47.799740Z",
     "iopub.status.busy": "2020-11-07T11:44:47.797465Z",
     "iopub.status.idle": "2020-11-07T11:44:49.133470Z",
     "shell.execute_reply": "2020-11-07T11:44:49.134199Z"
    },
    "papermill": {
     "duration": 1.392424,
     "end_time": "2020-11-07T11:44:49.134372",
     "exception": false,
     "start_time": "2020-11-07T11:44:47.741948",
     "status": "completed"
    },
    "tags": []
   },
   "outputs": [
    {
     "data": {
      "image/png": "[encoded data removed]",
      "text/plain": [
       "<Figure size 1440x864 with 5 Axes>"
      ]
     },
     "metadata": {
      "needs_background": "light"
     },
     "output_type": "display_data"
    }
   ],
   "source": [
    "# plot ECG data belonging to each class label\n",
    "label = [\"Non-ecotic beats\",\"Supraventricular ectopic beats\",\"Ventricular ectopic beats\",\n",
    "         \"Fusion Beats\",\"Unknown Beats\"]\n",
    "color = ['blue','red','green','orange','purple','black']\n",
    "fig, ax = plt.subplots(5, 1, sharex=True, sharey=True,figsize=(20,12))\n",
    "for i, row in enumerate(ax):\n",
    "    row.plot((data_train[data_train[187] == i].iloc[0])[:-1], label=label[i], color=color[i])\n",
    "    row.legend(fontsize=12)\n",
    "fig.text(0.5, 0.04, 'Amplitude', va='center', ha='center', fontsize=15)\n",
    "fig.text(0.04, 0.5, 'Time (ms)', va='center', ha='center', rotation='vertical', fontsize=15)\n",
    "\n",
    "plt.show()"
   ]
  },
  {
   "cell_type": "code",
   "execution_count": 10,
   "metadata": {
    "execution": {
     "iopub.execute_input": "2020-11-07T11:44:49.222730Z",
     "iopub.status.busy": "2020-11-07T11:44:49.221488Z",
     "iopub.status.idle": "2020-11-07T11:44:49.231881Z",
     "shell.execute_reply": "2020-11-07T11:44:49.231086Z"
    },
    "papermill": {
     "duration": 0.056267,
     "end_time": "2020-11-07T11:44:49.232013",
     "exception": false,
     "start_time": "2020-11-07T11:44:49.175746",
     "status": "completed"
    },
    "tags": []
   },
   "outputs": [
    {
     "data": {
      "text/plain": [
       "0.0    72471\n",
       "4.0     6431\n",
       "2.0     5788\n",
       "1.0     2223\n",
       "3.0      641\n",
       "Name: 187, dtype: int64"
      ]
     },
     "execution_count": 10,
     "metadata": {},
     "output_type": "execute_result"
    }
   ],
   "source": [
    "# display number of records in each category\n",
    "data_train[data_train.columns[-1]].value_counts()"
   ]
  },
  {
   "cell_type": "code",
   "execution_count": 11,
   "metadata": {
    "execution": {
     "iopub.execute_input": "2020-11-07T11:44:49.329356Z",
     "iopub.status.busy": "2020-11-07T11:44:49.328477Z",
     "iopub.status.idle": "2020-11-07T11:44:49.422116Z",
     "shell.execute_reply": "2020-11-07T11:44:49.421225Z"
    },
    "papermill": {
     "duration": 0.146024,
     "end_time": "2020-11-07T11:44:49.422256",
     "exception": false,
     "start_time": "2020-11-07T11:44:49.276232",
     "status": "completed"
    },
    "tags": []
   },
   "outputs": [
    {
     "data": {
      "image/png": "[encoded data removed]",
      "text/plain": [
       "<Figure size 1080x540 with 1 Axes>"
      ]
     },
     "metadata": {},
     "output_type": "display_data"
    }
   ],
   "source": [
    "# plot number of records in each category\n",
    "plt.figure(figsize=(15,7.5))\n",
    "plt.pie(data_train[187].value_counts(), labels=['Non-ecotic beats','Unknown Beats','Ventricular ectopic beats',\n",
    "                                                'Supraventricular ectopic beats','Fusion Beats'],\n",
    "        colors=['yellowgreen','khaki','paleturquoise','slategrey','thistle'],autopct='%2.1f%%')\n",
    "p=plt.gcf()\n",
    "p.gca().add_artist(plt.Circle( (0,0), 0.7, color='white'))\n",
    "plt.show()"
   ]
  },
  {
   "cell_type": "markdown",
   "metadata": {
    "papermill": {
     "duration": 0.044162,
     "end_time": "2020-11-07T11:44:49.513865",
     "exception": false,
     "start_time": "2020-11-07T11:44:49.469703",
     "status": "completed"
    },
    "tags": []
   },
   "source": [
    "## **Dealing with imbalanced data**"
   ]
  },
  {
   "cell_type": "markdown",
   "metadata": {
    "papermill": {
     "duration": 0.042113,
     "end_time": "2020-11-07T11:44:49.599107",
     "exception": false,
     "start_time": "2020-11-07T11:44:49.556994",
     "status": "completed"
    },
    "tags": []
   },
   "source": [
    "The challenge of working with imbalanced datasets is that most machine learning techniques will ignore, and in turn have poor performance on, the minority class, although typically it is the performance on the minority class that is most important.\n",
    "\n",
    "One approach to address this problem is to oversample the examples in the minority class. The simplest approach involves duplicating examples from the minority class in the training dataset prior to fitting a model. This can balance the class distribution but does not provide any additional information to the model. An improvement on duplicating examples from the minority class is to synthesize new examples from the minority class. This is a type of data augmentation for the minority class and is referred to as the Synthetic Minority Oversampling Technique (SMOTE). This technique was described by **Nitesh Chawla, et al.** in their 2002 paper *“SMOTE: Synthetic Minority Over-sampling Technique.”*\n",
    "\n",
    "SMOTE works by selecting examples that are close in the feature space, drawing a line between the examples in the feature space and drawing a new sample at a point along that line. Specifically, a random example from the minority class is first chosen. Then k of the nearest neighbours for that example are found (typically k=5). A randomly selected neighbor is chosen and a synthetic example is created at a randomly selected point between the two examples in feature space.\n",
    "\n",
    "A general downside of the approach is that synthetic examples are created without considering the majority class, possibly resulting in ambiguous examples if there is a strong overlap for the classes.\n",
    "\n",
    "Refer: https://machinelearningmastery.com/smote-oversampling-for-imbalanced-classification/"
   ]
  },
  {
   "cell_type": "code",
   "execution_count": 12,
   "metadata": {
    "execution": {
     "iopub.execute_input": "2020-11-07T11:44:49.692391Z",
     "iopub.status.busy": "2020-11-07T11:44:49.691548Z",
     "iopub.status.idle": "2020-11-07T11:44:49.694821Z",
     "shell.execute_reply": "2020-11-07T11:44:49.694042Z"
    },
    "papermill": {
     "duration": 0.050537,
     "end_time": "2020-11-07T11:44:49.694948",
     "exception": false,
     "start_time": "2020-11-07T11:44:49.644411",
     "status": "completed"
    },
    "tags": []
   },
   "outputs": [],
   "source": [
    "steps = [('o', SMOTE(sampling_strategy=0.5)), ('u', RandomUnderSampler(sampling_strategy=0.7))]\n",
    "pipeline = Pipeline(steps=steps)"
   ]
  },
  {
   "cell_type": "code",
   "execution_count": 13,
   "metadata": {
    "execution": {
     "iopub.execute_input": "2020-11-07T11:44:49.796053Z",
     "iopub.status.busy": "2020-11-07T11:44:49.789716Z",
     "iopub.status.idle": "2020-11-07T11:45:03.760479Z",
     "shell.execute_reply": "2020-11-07T11:45:03.759848Z"
    },
    "papermill": {
     "duration": 14.020985,
     "end_time": "2020-11-07T11:45:03.760618",
     "exception": false,
     "start_time": "2020-11-07T11:44:49.739633",
     "status": "completed"
    },
    "tags": []
   },
   "outputs": [],
   "source": [
    "def balance(train,df_0):\n",
    "    data, label = [0] * len(set(list(train[train.columns[-1]]))), [0] * len(set(list(train[train.columns[-1]])))\n",
    "    for i in set(list(train[train.columns[-1]])):\n",
    "        if i == 0.0:\n",
    "            continue\n",
    "        else:\n",
    "            df = train[train[train.columns[-1]] == i]\n",
    "\n",
    "        train_df = pd.concat([df_0,df])\n",
    "        X = train_df[train_df.columns[:-1]]\n",
    "        y = train_df[train_df.columns[-1]]\n",
    "        # transform the dataset\n",
    "        X, y = pipeline.fit_resample(X, y)\n",
    "        \n",
    "        data[int(i)] = X[y==i]\n",
    "        label[int(i)] = y[y==i]\n",
    "    return data, label, X, y\n",
    "\n",
    "df_0 = data_train[data_train[data_train.columns[-1]] == 0].sample(n=20000,random_state=42)\n",
    "temp, temp_l, X, y = balance(data_train,df_0)"
   ]
  },
  {
   "cell_type": "code",
   "execution_count": 14,
   "metadata": {
    "execution": {
     "iopub.execute_input": "2020-11-07T11:45:03.856047Z",
     "iopub.status.busy": "2020-11-07T11:45:03.855220Z",
     "iopub.status.idle": "2020-11-07T11:45:03.958726Z",
     "shell.execute_reply": "2020-11-07T11:45:03.957833Z"
    },
    "papermill": {
     "duration": 0.154376,
     "end_time": "2020-11-07T11:45:03.958904",
     "exception": false,
     "start_time": "2020-11-07T11:45:03.804528",
     "status": "completed"
    },
    "tags": []
   },
   "outputs": [],
   "source": [
    "X_train = X[y==0]\n",
    "y_train = y[y==0]\n",
    "for i in range(1,len(temp)):\n",
    "    X_train = pd.concat([X_train,temp[i]])\n",
    "    y_train = pd.concat([y_train,pd.Series(np.array(temp_l[i]))])"
   ]
  },
  {
   "cell_type": "code",
   "execution_count": 15,
   "metadata": {
    "execution": {
     "iopub.execute_input": "2020-11-07T11:45:04.049605Z",
     "iopub.status.busy": "2020-11-07T11:45:04.048585Z",
     "iopub.status.idle": "2020-11-07T11:45:04.054266Z",
     "shell.execute_reply": "2020-11-07T11:45:04.053466Z"
    },
    "papermill": {
     "duration": 0.052632,
     "end_time": "2020-11-07T11:45:04.054414",
     "exception": false,
     "start_time": "2020-11-07T11:45:04.001782",
     "status": "completed"
    },
    "tags": []
   },
   "outputs": [
    {
     "data": {
      "text/plain": [
       "((54285, 187), (54285,))"
      ]
     },
     "execution_count": 15,
     "metadata": {},
     "output_type": "execute_result"
    }
   ],
   "source": [
    "X_train.shape, y_train.shape"
   ]
  },
  {
   "cell_type": "code",
   "execution_count": 16,
   "metadata": {
    "execution": {
     "iopub.execute_input": "2020-11-07T11:45:04.148839Z",
     "iopub.status.busy": "2020-11-07T11:45:04.147947Z",
     "iopub.status.idle": "2020-11-07T11:45:04.156026Z",
     "shell.execute_reply": "2020-11-07T11:45:04.155410Z"
    },
    "papermill": {
     "duration": 0.058322,
     "end_time": "2020-11-07T11:45:04.156151",
     "exception": false,
     "start_time": "2020-11-07T11:45:04.097829",
     "status": "completed"
    },
    "tags": []
   },
   "outputs": [
    {
     "data": {
      "text/plain": [
       "0.0    14285\n",
       "3.0    10000\n",
       "4.0    10000\n",
       "2.0    10000\n",
       "1.0    10000\n",
       "dtype: int64"
      ]
     },
     "execution_count": 16,
     "metadata": {},
     "output_type": "execute_result"
    }
   ],
   "source": [
    "# display number of records in each category\n",
    "y_train.value_counts()"
   ]
  },
  {
   "cell_type": "code",
   "execution_count": 17,
   "metadata": {
    "execution": {
     "iopub.execute_input": "2020-11-07T11:45:04.254459Z",
     "iopub.status.busy": "2020-11-07T11:45:04.253419Z",
     "iopub.status.idle": "2020-11-07T11:45:04.340723Z",
     "shell.execute_reply": "2020-11-07T11:45:04.339982Z"
    },
    "papermill": {
     "duration": 0.139954,
     "end_time": "2020-11-07T11:45:04.340846",
     "exception": false,
     "start_time": "2020-11-07T11:45:04.200892",
     "status": "completed"
    },
    "tags": []
   },
   "outputs": [
    {
     "data": {
      "image/png": "[encoded data removed]",
      "text/plain": [
       "<Figure size 1080x540 with 1 Axes>"
      ]
     },
     "metadata": {},
     "output_type": "display_data"
    }
   ],
   "source": [
    "# plot number of records in each category\n",
    "plt.figure(figsize=(15,7.5))\n",
    "plt.pie(y_train.value_counts(),labels=['Non-ecotic beats','Unknown Beats','Ventricular ectopic beats',\n",
    "                                       'Supraventricular ectopic beats','Fusion Beats'],\n",
    "        colors=['yellowgreen','khaki','paleturquoise','slategrey','thistle'],autopct='%2.1f%%')\n",
    "p=plt.gcf()\n",
    "p.gca().add_artist(plt.Circle( (0,0), 0.7, color='white'))\n",
    "plt.show()"
   ]
  },
  {
   "cell_type": "code",
   "execution_count": 18,
   "metadata": {
    "execution": {
     "iopub.execute_input": "2020-11-07T11:45:04.448572Z",
     "iopub.status.busy": "2020-11-07T11:45:04.447741Z",
     "iopub.status.idle": "2020-11-07T11:45:04.473921Z",
     "shell.execute_reply": "2020-11-07T11:45:04.473143Z"
    },
    "papermill": {
     "duration": 0.087617,
     "end_time": "2020-11-07T11:45:04.474046",
     "exception": false,
     "start_time": "2020-11-07T11:45:04.386429",
     "status": "completed"
    },
    "tags": []
   },
   "outputs": [
    {
     "data": {
      "text/plain": [
       "((21892, 187), (21892,))"
      ]
     },
     "execution_count": 18,
     "metadata": {},
     "output_type": "execute_result"
    }
   ],
   "source": [
    "X_test = data_test[data_test.columns[:-1]]\n",
    "y_test = data_test[data_test.columns[-1]]\n",
    "X_test, y_test = shuffle(X_test, y_test)\n",
    "X_test.shape, y_test.shape"
   ]
  },
  {
   "cell_type": "markdown",
   "metadata": {
    "papermill": {
     "duration": 0.045402,
     "end_time": "2020-11-07T11:45:04.564531",
     "exception": false,
     "start_time": "2020-11-07T11:45:04.519129",
     "status": "completed"
    },
    "tags": []
   },
   "source": [
    "## Baseline model"
   ]
  },
  {
   "cell_type": "markdown",
   "metadata": {
    "papermill": {
     "duration": 0.045933,
     "end_time": "2020-11-07T11:45:04.654962",
     "exception": false,
     "start_time": "2020-11-07T11:45:04.609029",
     "status": "completed"
    },
    "tags": []
   },
   "source": [
    "Several methods have been proposed in the past to automatically classify heartbeats from ECG signals, these includes Fourier transform, principle component analysis, wavelet transform, and the hidden Markov method. Moreover, machine learning methods, such as artificial neural networks (ANNs), support vector machines (SVMs), least squares support vector machines (LS-SVMs), particle swarm optimization support vector machines (PSO-SVMs), particle swarm optimization radial basis functions (PSO-RBFs), and extreme learning machines (ELMs), have also been developed for the accurate classification of heartbeats.\n",
    "\n",
    "However, there are some drawbacks to these classification methods. For example, expert systems require a large amount of prior knowledge, which may vary for different patients. Another problem lies in the manual feature selection of the heartbeat signal for some machine learning methods. ECG feature extraction is a key technique for heartbeat recognition, which is used to select a representative feature subset from the raw ECG signal. However, manual selection may result in the loss of information. Moreover, methods like the PCA and Fourier transform may increase the complexity and computational time required to identify a solution. As the number of patients increases, the classification accuracy will decrease due to the large variation in the patterns of the ECG signals among different patients."
   ]
  },
  {
   "cell_type": "code",
   "execution_count": 19,
   "metadata": {
    "execution": {
     "iopub.execute_input": "2020-11-07T11:45:04.758186Z",
     "iopub.status.busy": "2020-11-07T11:45:04.757018Z",
     "iopub.status.idle": "2020-11-07T11:48:53.537247Z",
     "shell.execute_reply": "2020-11-07T11:48:53.538378Z"
    },
    "papermill": {
     "duration": 228.838942,
     "end_time": "2020-11-07T11:48:53.538689",
     "exception": false,
     "start_time": "2020-11-07T11:45:04.699747",
     "status": "completed"
    },
    "tags": []
   },
   "outputs": [
    {
     "data": {
      "text/plain": [
       "Pipeline(steps=[('standardscaler', StandardScaler()),\n",
       "                ('svc', SVC(gamma='auto'))])"
      ]
     },
     "execution_count": 19,
     "metadata": {},
     "output_type": "execute_result"
    }
   ],
   "source": [
    "start_time = time.time()\n",
    "model = make_pipeline(StandardScaler(), SVC(gamma='auto'))\n",
    "model.fit(X_train, y_train)\n",
    "Pipeline(steps=[('standardscaler', StandardScaler()),('svc', SVC(gamma='auto'))])"
   ]
  },
  {
   "cell_type": "code",
   "execution_count": 20,
   "metadata": {
    "execution": {
     "iopub.execute_input": "2020-11-07T11:48:53.651083Z",
     "iopub.status.busy": "2020-11-07T11:48:53.650190Z",
     "iopub.status.idle": "2020-11-07T11:50:53.477986Z",
     "shell.execute_reply": "2020-11-07T11:50:53.478629Z"
    },
    "papermill": {
     "duration": 119.889001,
     "end_time": "2020-11-07T11:50:53.478839",
     "exception": false,
     "start_time": "2020-11-07T11:48:53.589838",
     "status": "completed"
    },
    "tags": []
   },
   "outputs": [
    {
     "name": "stdout",
     "output_type": "stream",
     "text": [
      "Accuracy:  92.60460442170655 %\n",
      "Execution time:  5.811240474383037 minutes\n"
     ]
    }
   ],
   "source": [
    "y_pred = model.predict(X_test)\n",
    "print(\"Accuracy: \",sum(y_test == y_pred)/len(y_test)*100,'%')\n",
    "print(\"Execution time: \", (time.time() - start_time)/60,'minutes')"
   ]
  },
  {
   "cell_type": "markdown",
   "metadata": {
    "papermill": {
     "duration": 0.045268,
     "end_time": "2020-11-07T11:50:53.570366",
     "exception": false,
     "start_time": "2020-11-07T11:50:53.525098",
     "status": "completed"
    },
    "tags": []
   },
   "source": [
    "## **Model preparation and training**"
   ]
  },
  {
   "cell_type": "code",
   "execution_count": 21,
   "metadata": {
    "execution": {
     "iopub.execute_input": "2020-11-07T11:50:53.685129Z",
     "iopub.status.busy": "2020-11-07T11:50:53.677717Z",
     "iopub.status.idle": "2020-11-07T11:54:41.779610Z",
     "shell.execute_reply": "2020-11-07T11:54:41.778904Z"
    },
    "papermill": {
     "duration": 228.163739,
     "end_time": "2020-11-07T11:54:41.779825",
     "exception": false,
     "start_time": "2020-11-07T11:50:53.616086",
     "status": "completed"
    },
    "tags": []
   },
   "outputs": [
    {
     "name": "stdout",
     "output_type": "stream",
     "text": [
      "Epoch 1/40\n",
      "1697/1697 [==============================] - 6s 4ms/step - loss: 0.3297 - accuracy: 0.8812\n",
      "Epoch 2/40\n",
      "1697/1697 [==============================] - 6s 4ms/step - loss: 0.1820 - accuracy: 0.9357\n",
      "Epoch 3/40\n",
      "1697/1697 [==============================] - 6s 3ms/step - loss: 0.1403 - accuracy: 0.9508\n",
      "Epoch 4/40\n",
      "1697/1697 [==============================] - 6s 4ms/step - loss: 0.1190 - accuracy: 0.9583\n",
      "Epoch 5/40\n",
      "1697/1697 [==============================] - 6s 4ms/step - loss: 0.1033 - accuracy: 0.9638\n",
      "Epoch 6/40\n",
      "1697/1697 [==============================] - 6s 3ms/step - loss: 0.0895 - accuracy: 0.9692\n",
      "Epoch 7/40\n",
      "1697/1697 [==============================] - 6s 3ms/step - loss: 0.0825 - accuracy: 0.9720\n",
      "Epoch 8/40\n",
      "1697/1697 [==============================] - 6s 4ms/step - loss: 0.0763 - accuracy: 0.9744\n",
      "Epoch 9/40\n",
      "1697/1697 [==============================] - 6s 3ms/step - loss: 0.0733 - accuracy: 0.9749\n",
      "Epoch 10/40\n",
      "1697/1697 [==============================] - 6s 3ms/step - loss: 0.0650 - accuracy: 0.9784\n",
      "Epoch 11/40\n",
      "1697/1697 [==============================] - 5s 3ms/step - loss: 0.0619 - accuracy: 0.9789\n",
      "Epoch 12/40\n",
      "1697/1697 [==============================] - 6s 3ms/step - loss: 0.0577 - accuracy: 0.9808\n",
      "Epoch 13/40\n",
      "1697/1697 [==============================] - 5s 3ms/step - loss: 0.0559 - accuracy: 0.9813\n",
      "Epoch 14/40\n",
      "1697/1697 [==============================] - 6s 3ms/step - loss: 0.0508 - accuracy: 0.9835\n",
      "Epoch 15/40\n",
      "1697/1697 [==============================] - 5s 3ms/step - loss: 0.0501 - accuracy: 0.9833\n",
      "Epoch 16/40\n",
      "1697/1697 [==============================] - 6s 3ms/step - loss: 0.0486 - accuracy: 0.9840\n",
      "Epoch 17/40\n",
      "1697/1697 [==============================] - 5s 3ms/step - loss: 0.0480 - accuracy: 0.9844\n",
      "Epoch 18/40\n",
      "1697/1697 [==============================] - 5s 3ms/step - loss: 0.0430 - accuracy: 0.9858\n",
      "Epoch 19/40\n",
      "1697/1697 [==============================] - 6s 3ms/step - loss: 0.0413 - accuracy: 0.9859\n",
      "Epoch 20/40\n",
      "1697/1697 [==============================] - 6s 4ms/step - loss: 0.0406 - accuracy: 0.9866\n",
      "Epoch 21/40\n",
      "1697/1697 [==============================] - 6s 3ms/step - loss: 0.0398 - accuracy: 0.9868\n",
      "Epoch 22/40\n",
      "1697/1697 [==============================] - 6s 3ms/step - loss: 0.0386 - accuracy: 0.9877\n",
      "Epoch 23/40\n",
      "1697/1697 [==============================] - 6s 3ms/step - loss: 0.0345 - accuracy: 0.9889\n",
      "Epoch 24/40\n",
      "1697/1697 [==============================] - 6s 3ms/step - loss: 0.0387 - accuracy: 0.9880\n",
      "Epoch 25/40\n",
      "1697/1697 [==============================] - 6s 3ms/step - loss: 0.0347 - accuracy: 0.9887\n",
      "Epoch 26/40\n",
      "1697/1697 [==============================] - 6s 4ms/step - loss: 0.0326 - accuracy: 0.9897\n",
      "Epoch 27/40\n",
      "1697/1697 [==============================] - 6s 3ms/step - loss: 0.0310 - accuracy: 0.9898\n",
      "Epoch 28/40\n",
      "1697/1697 [==============================] - 6s 3ms/step - loss: 0.0346 - accuracy: 0.9896\n",
      "Epoch 29/40\n",
      "1697/1697 [==============================] - 5s 3ms/step - loss: 0.0297 - accuracy: 0.9907\n",
      "Epoch 30/40\n",
      "1697/1697 [==============================] - 6s 3ms/step - loss: 0.0311 - accuracy: 0.9900\n",
      "Epoch 31/40\n",
      "1697/1697 [==============================] - 6s 3ms/step - loss: 0.0317 - accuracy: 0.9901\n",
      "Epoch 32/40\n",
      "1697/1697 [==============================] - 5s 3ms/step - loss: 0.0265 - accuracy: 0.9920\n",
      "Epoch 33/40\n",
      "1697/1697 [==============================] - 6s 3ms/step - loss: 0.0293 - accuracy: 0.9909\n",
      "Epoch 34/40\n",
      "1697/1697 [==============================] - 6s 3ms/step - loss: 0.0291 - accuracy: 0.9916\n",
      "Epoch 35/40\n",
      "1697/1697 [==============================] - 5s 3ms/step - loss: 0.0257 - accuracy: 0.9919\n",
      "Epoch 36/40\n",
      "1697/1697 [==============================] - 6s 3ms/step - loss: 0.0276 - accuracy: 0.9916\n",
      "Epoch 37/40\n",
      "1697/1697 [==============================] - 6s 3ms/step - loss: 0.0292 - accuracy: 0.9919\n",
      "Epoch 38/40\n",
      "1697/1697 [==============================] - 5s 3ms/step - loss: 0.0241 - accuracy: 0.9928\n",
      "Epoch 39/40\n",
      "1697/1697 [==============================] - 5s 3ms/step - loss: 0.0246 - accuracy: 0.9926\n",
      "Epoch 40/40\n",
      "1697/1697 [==============================] - 6s 3ms/step - loss: 0.0259 - accuracy: 0.9924\n"
     ]
    },
    {
     "data": {
      "text/plain": [
       "Pipeline(steps=[('preprocess', StandardScaler()),\n",
       "                ('clf',\n",
       "                 <tensorflow.python.keras.wrappers.scikit_learn.KerasClassifier object at 0x7f7daf991350>)])"
      ]
     },
     "execution_count": 21,
     "metadata": {},
     "output_type": "execute_result"
    }
   ],
   "source": [
    "# run a deep feed forward neural network\n",
    "start_time = time.time()\n",
    "scaler = StandardScaler()\n",
    "\n",
    "def create_model():\n",
    "    model = keras.models.Sequential([\n",
    "        keras.layers.Dense(100, input_shape=(187,), kernel_initializer=\"he_normal\"),\n",
    "        keras.layers.PReLU(),\n",
    "        keras.layers.Dense(300, kernel_initializer=\"he_normal\"),\n",
    "        keras.layers.PReLU(),\n",
    "        keras.layers.Dense(200, kernel_initializer=\"he_normal\"),\n",
    "        keras.layers.PReLU(),\n",
    "        keras.layers.Dense(100, kernel_initializer=\"he_normal\"),\n",
    "        keras.layers.PReLU(),\n",
    "        keras.layers.Dense(50, kernel_initializer=\"he_normal\"),\n",
    "        keras.layers.PReLU(),\n",
    "        keras.layers.Dense(5, activation=\"softmax\")\n",
    "    ])\n",
    "    model.compile(optimizer='Adam',loss='categorical_crossentropy',metrics=['accuracy'])\n",
    "    \n",
    "    return model\n",
    "\n",
    "callbacks = [EarlyStopping(monitor='val_loss', patience=5),\n",
    "             ModelCheckpoint(filepath='best_model.h5', monitor='val_loss', save_best_only=True)]\n",
    "\n",
    "# wrap the model using the function you created\n",
    "clf = KerasClassifier(create_model, epochs=40, callbacks=callbacks, batch_size=32)\n",
    "\n",
    "pipeline = Pipeline([('preprocess',scaler),('clf',clf)])\n",
    "\n",
    "pipeline.fit(X_train, y_train)"
   ]
  },
  {
   "cell_type": "code",
   "execution_count": 22,
   "metadata": {
    "execution": {
     "iopub.execute_input": "2020-11-07T11:54:45.561206Z",
     "iopub.status.busy": "2020-11-07T11:54:45.560380Z",
     "iopub.status.idle": "2020-11-07T11:54:46.580691Z",
     "shell.execute_reply": "2020-11-07T11:54:46.579884Z"
    },
    "papermill": {
     "duration": 2.915163,
     "end_time": "2020-11-07T11:54:46.580968",
     "exception": false,
     "start_time": "2020-11-07T11:54:43.665805",
     "status": "completed"
    },
    "tags": []
   },
   "outputs": [
    {
     "name": "stdout",
     "output_type": "stream",
     "text": [
      "Accuracy:  96.82532431938607 %\n",
      "Execution time:  3.881602362791697 minutes\n"
     ]
    }
   ],
   "source": [
    "y_pred = pipeline.predict(X_test)\n",
    "print(\"Accuracy: \",sum(y_test == y_pred)/len(y_test)*100,'%')\n",
    "print(\"Execution time: \", (time.time() - start_time)/60,'minutes')"
   ]
  },
  {
   "cell_type": "markdown",
   "metadata": {
    "papermill": {
     "duration": 1.960601,
     "end_time": "2020-11-07T11:54:50.458626",
     "exception": false,
     "start_time": "2020-11-07T11:54:48.498025",
     "status": "completed"
    },
    "tags": []
   },
   "source": [
    "### **Why a convolution neural network over feed forward neural network?**\n",
    "Convolutional neural networks (CNN) are useful tools that have been used in pattern recognition applications, such as the classification of handwriting and object recognition in large archives. The connectivity between neurons in a CNN is similar to the organization of the visual cortex in animals, which makes CNNs superior to other methods in the recognition of the pattern and structure of items. CNN also provide a number of advantages over conventional classification techniques in biomedical applications. They are a specialized type of neural network with an inherent grid-like topology for processing input data in which nearby entries are correlated.\n",
    "\n",
    "A CNN is able to successfully capture the spatial and temporal dependencies in an image through the application of relevant filters. The architecture performs a better fitting to the image dataset due to the reduction in the number of parameters involved and reusability of weights. In other words, the network can be trained to understand the sophistication of the image better."
   ]
  },
  {
   "cell_type": "code",
   "execution_count": 23,
   "metadata": {
    "execution": {
     "iopub.execute_input": "2020-11-07T11:54:54.286393Z",
     "iopub.status.busy": "2020-11-07T11:54:54.285351Z",
     "iopub.status.idle": "2020-11-07T11:54:54.291119Z",
     "shell.execute_reply": "2020-11-07T11:54:54.290315Z"
    },
    "papermill": {
     "duration": 1.915927,
     "end_time": "2020-11-07T11:54:54.291250",
     "exception": false,
     "start_time": "2020-11-07T11:54:52.375323",
     "status": "completed"
    },
    "tags": []
   },
   "outputs": [],
   "source": [
    "# convert labels to one hot encoded values\n",
    "y_train = to_categorical(y_train)\n",
    "y_test = to_categorical(y_test)"
   ]
  },
  {
   "cell_type": "code",
   "execution_count": 24,
   "metadata": {
    "execution": {
     "iopub.execute_input": "2020-11-07T11:54:58.096989Z",
     "iopub.status.busy": "2020-11-07T11:54:58.095922Z",
     "iopub.status.idle": "2020-11-07T11:54:58.099361Z",
     "shell.execute_reply": "2020-11-07T11:54:58.098707Z"
    },
    "papermill": {
     "duration": 1.92295,
     "end_time": "2020-11-07T11:54:58.099491",
     "exception": false,
     "start_time": "2020-11-07T11:54:56.176541",
     "status": "completed"
    },
    "tags": []
   },
   "outputs": [],
   "source": [
    "# frame the training and test data a 3D matrix\n",
    "X_train = np.asarray(X_train)\n",
    "X_train = X_train.reshape(len(X_train), X_train.shape[1],1)\n",
    "X_test = np.asarray(X_test)\n",
    "X_test = X_test.reshape(len(X_test), X_test.shape[1],1)"
   ]
  },
  {
   "cell_type": "code",
   "execution_count": 25,
   "metadata": {
    "execution": {
     "iopub.execute_input": "2020-11-07T11:55:01.813613Z",
     "iopub.status.busy": "2020-11-07T11:55:01.812483Z",
     "iopub.status.idle": "2020-11-07T11:55:01.818719Z",
     "shell.execute_reply": "2020-11-07T11:55:01.819277Z"
    },
    "papermill": {
     "duration": 1.883979,
     "end_time": "2020-11-07T11:55:01.819450",
     "exception": false,
     "start_time": "2020-11-07T11:54:59.935471",
     "status": "completed"
    },
    "tags": []
   },
   "outputs": [
    {
     "name": "stdout",
     "output_type": "stream",
     "text": [
      "X_train (54285, 187, 1)\n",
      "y_train (54285, 5)\n",
      "X_test (21892, 187, 1)\n",
      "y_test (21892, 5)\n"
     ]
    }
   ],
   "source": [
    "print(\"X_train\", X_train.shape)\n",
    "print(\"y_train\", y_train.shape)\n",
    "print(\"X_test\", X_test.shape)\n",
    "print(\"y_test\", y_test.shape)"
   ]
  },
  {
   "cell_type": "code",
   "execution_count": 26,
   "metadata": {
    "execution": {
     "iopub.execute_input": "2020-11-07T11:55:05.500617Z",
     "iopub.status.busy": "2020-11-07T11:55:05.495661Z",
     "iopub.status.idle": "2020-11-07T12:06:45.434486Z",
     "shell.execute_reply": "2020-11-07T12:06:45.433770Z"
    },
    "papermill": {
     "duration": 701.782192,
     "end_time": "2020-11-07T12:06:45.434613",
     "exception": false,
     "start_time": "2020-11-07T11:55:03.652421",
     "status": "completed"
    },
    "tags": []
   },
   "outputs": [
    {
     "name": "stdout",
     "output_type": "stream",
     "text": [
      "Epoch 1/40\n",
      "1697/1697 [==============================] - 17s 10ms/step - loss: 0.4026 - accuracy: 0.8533\n",
      "Epoch 2/40\n",
      "1697/1697 [==============================] - 17s 10ms/step - loss: 0.1873 - accuracy: 0.9335\n",
      "Epoch 3/40\n",
      "1697/1697 [==============================] - 17s 10ms/step - loss: 0.1297 - accuracy: 0.9551\n",
      "Epoch 4/40\n",
      "1697/1697 [==============================] - 19s 11ms/step - loss: 0.1007 - accuracy: 0.9644\n",
      "Epoch 5/40\n",
      "1697/1697 [==============================] - 17s 10ms/step - loss: 0.0796 - accuracy: 0.9721\n",
      "Epoch 6/40\n",
      "1697/1697 [==============================] - 18s 11ms/step - loss: 0.0696 - accuracy: 0.9757\n",
      "Epoch 7/40\n",
      "1697/1697 [==============================] - 17s 10ms/step - loss: 0.0579 - accuracy: 0.9802\n",
      "Epoch 8/40\n",
      "1697/1697 [==============================] - 18s 10ms/step - loss: 0.0518 - accuracy: 0.9817\n",
      "Epoch 9/40\n",
      "1697/1697 [==============================] - 18s 11ms/step - loss: 0.0460 - accuracy: 0.9841\n",
      "Epoch 10/40\n",
      "1697/1697 [==============================] - 18s 10ms/step - loss: 0.0392 - accuracy: 0.9863\n",
      "Epoch 11/40\n",
      "1697/1697 [==============================] - 17s 10ms/step - loss: 0.0361 - accuracy: 0.9878\n",
      "Epoch 12/40\n",
      "1697/1697 [==============================] - 17s 10ms/step - loss: 0.0342 - accuracy: 0.9880\n",
      "Epoch 13/40\n",
      "1697/1697 [==============================] - 17s 10ms/step - loss: 0.0307 - accuracy: 0.9897\n",
      "Epoch 14/40\n",
      "1697/1697 [==============================] - 17s 10ms/step - loss: 0.0269 - accuracy: 0.9909\n",
      "Epoch 15/40\n",
      "1697/1697 [==============================] - 17s 10ms/step - loss: 0.0261 - accuracy: 0.9914\n",
      "Epoch 16/40\n",
      "1697/1697 [==============================] - 17s 10ms/step - loss: 0.0249 - accuracy: 0.9915\n",
      "Epoch 17/40\n",
      "1697/1697 [==============================] - 17s 10ms/step - loss: 0.0240 - accuracy: 0.9922\n",
      "Epoch 18/40\n",
      "1697/1697 [==============================] - 18s 10ms/step - loss: 0.0222 - accuracy: 0.9926\n",
      "Epoch 19/40\n",
      "1697/1697 [==============================] - 17s 10ms/step - loss: 0.0226 - accuracy: 0.9928\n",
      "Epoch 20/40\n",
      "1697/1697 [==============================] - 18s 11ms/step - loss: 0.0206 - accuracy: 0.9935\n",
      "Epoch 21/40\n",
      "1697/1697 [==============================] - 18s 11ms/step - loss: 0.0183 - accuracy: 0.9938\n",
      "Epoch 22/40\n",
      "1697/1697 [==============================] - 19s 11ms/step - loss: 0.0189 - accuracy: 0.9938\n",
      "Epoch 23/40\n",
      "1697/1697 [==============================] - 17s 10ms/step - loss: 0.0181 - accuracy: 0.9940\n",
      "Epoch 24/40\n",
      "1697/1697 [==============================] - 18s 10ms/step - loss: 0.0162 - accuracy: 0.9946\n",
      "Epoch 25/40\n",
      "1697/1697 [==============================] - 17s 10ms/step - loss: 0.0168 - accuracy: 0.9945\n",
      "Epoch 26/40\n",
      "1697/1697 [==============================] - 17s 10ms/step - loss: 0.0159 - accuracy: 0.9951\n",
      "Epoch 27/40\n",
      "1697/1697 [==============================] - 18s 10ms/step - loss: 0.0170 - accuracy: 0.9945\n",
      "Epoch 28/40\n",
      "1697/1697 [==============================] - 17s 10ms/step - loss: 0.0140 - accuracy: 0.9954\n",
      "Epoch 29/40\n",
      "1697/1697 [==============================] - 17s 10ms/step - loss: 0.0155 - accuracy: 0.9951\n",
      "Epoch 30/40\n",
      "1697/1697 [==============================] - 18s 11ms/step - loss: 0.0139 - accuracy: 0.9957\n",
      "Epoch 31/40\n",
      "1697/1697 [==============================] - 17s 10ms/step - loss: 0.0132 - accuracy: 0.9962\n",
      "Epoch 32/40\n",
      "1697/1697 [==============================] - 17s 10ms/step - loss: 0.0147 - accuracy: 0.9954\n",
      "Epoch 33/40\n",
      "1697/1697 [==============================] - 17s 10ms/step - loss: 0.0145 - accuracy: 0.9957\n",
      "Epoch 34/40\n",
      "1697/1697 [==============================] - 18s 11ms/step - loss: 0.0115 - accuracy: 0.9963\n",
      "Epoch 35/40\n",
      "1697/1697 [==============================] - 17s 10ms/step - loss: 0.0135 - accuracy: 0.9960\n",
      "Epoch 36/40\n",
      "1697/1697 [==============================] - 17s 10ms/step - loss: 0.0125 - accuracy: 0.9964\n",
      "Epoch 37/40\n",
      "1697/1697 [==============================] - 17s 10ms/step - loss: 0.0119 - accuracy: 0.9960\n",
      "Epoch 38/40\n",
      "1697/1697 [==============================] - 17s 10ms/step - loss: 0.0106 - accuracy: 0.9970\n",
      "Epoch 39/40\n",
      "1697/1697 [==============================] - 20s 12ms/step - loss: 0.0131 - accuracy: 0.9960\n",
      "Epoch 40/40\n",
      "1697/1697 [==============================] - 16s 10ms/step - loss: 0.0088 - accuracy: 0.9973\n"
     ]
    },
    {
     "ename": "OSError",
     "evalue": "Unable to open file (unable to open file: name = 'cnn_best_model.h5', errno = 2, error message = 'No such file or directory', flags = 0, o_flags = 0)",
     "output_type": "error",
     "traceback": [
      "\u001b[0;31m---------------------------------------------------------------------------\u001b[0m",
      "\u001b[0;31mOSError\u001b[0m                                   Traceback (most recent call last)",
      "\u001b[0;32m<ipython-input-26-1ef25997bee1>\u001b[0m in \u001b[0;36m<module>\u001b[0;34m\u001b[0m\n\u001b[1;32m     20\u001b[0m \u001b[0;34m\u001b[0m\u001b[0m\n\u001b[1;32m     21\u001b[0m \u001b[0mhistory\u001b[0m\u001b[0;34m=\u001b[0m\u001b[0mmodel\u001b[0m\u001b[0;34m.\u001b[0m\u001b[0mfit\u001b[0m\u001b[0;34m(\u001b[0m\u001b[0mX_train\u001b[0m\u001b[0;34m,\u001b[0m \u001b[0my_train\u001b[0m\u001b[0;34m,\u001b[0m\u001b[0mepochs\u001b[0m\u001b[0;34m=\u001b[0m\u001b[0;36m40\u001b[0m\u001b[0;34m,\u001b[0m\u001b[0mcallbacks\u001b[0m\u001b[0;34m=\u001b[0m\u001b[0mcallbacks\u001b[0m\u001b[0;34m,\u001b[0m \u001b[0mbatch_size\u001b[0m\u001b[0;34m=\u001b[0m\u001b[0;36m32\u001b[0m\u001b[0;34m)\u001b[0m\u001b[0;34m\u001b[0m\u001b[0;34m\u001b[0m\u001b[0m\n\u001b[0;32m---> 22\u001b[0;31m \u001b[0mmodel\u001b[0m\u001b[0;34m.\u001b[0m\u001b[0mload_weights\u001b[0m\u001b[0;34m(\u001b[0m\u001b[0;34m'cnn_best_model.h5'\u001b[0m\u001b[0;34m)\u001b[0m\u001b[0;34m\u001b[0m\u001b[0;34m\u001b[0m\u001b[0m\n\u001b[0m",
      "\u001b[0;32m/opt/conda/lib/python3.7/site-packages/tensorflow/python/keras/engine/training.py\u001b[0m in \u001b[0;36mload_weights\u001b[0;34m(self, filepath, by_name, skip_mismatch, options)\u001b[0m\n\u001b[1;32m   2202\u001b[0m           'first, then load the weights.')\n\u001b[1;32m   2203\u001b[0m     \u001b[0mself\u001b[0m\u001b[0;34m.\u001b[0m\u001b[0m_assert_weights_created\u001b[0m\u001b[0;34m(\u001b[0m\u001b[0;34m)\u001b[0m\u001b[0;34m\u001b[0m\u001b[0;34m\u001b[0m\u001b[0m\n\u001b[0;32m-> 2204\u001b[0;31m     \u001b[0;32mwith\u001b[0m \u001b[0mh5py\u001b[0m\u001b[0;34m.\u001b[0m\u001b[0mFile\u001b[0m\u001b[0;34m(\u001b[0m\u001b[0mfilepath\u001b[0m\u001b[0;34m,\u001b[0m \u001b[0;34m'r'\u001b[0m\u001b[0;34m)\u001b[0m \u001b[0;32mas\u001b[0m \u001b[0mf\u001b[0m\u001b[0;34m:\u001b[0m\u001b[0;34m\u001b[0m\u001b[0;34m\u001b[0m\u001b[0m\n\u001b[0m\u001b[1;32m   2205\u001b[0m       \u001b[0;32mif\u001b[0m \u001b[0;34m'layer_names'\u001b[0m \u001b[0;32mnot\u001b[0m \u001b[0;32min\u001b[0m \u001b[0mf\u001b[0m\u001b[0;34m.\u001b[0m\u001b[0mattrs\u001b[0m \u001b[0;32mand\u001b[0m \u001b[0;34m'model_weights'\u001b[0m \u001b[0;32min\u001b[0m \u001b[0mf\u001b[0m\u001b[0;34m:\u001b[0m\u001b[0;34m\u001b[0m\u001b[0;34m\u001b[0m\u001b[0m\n\u001b[1;32m   2206\u001b[0m         \u001b[0mf\u001b[0m \u001b[0;34m=\u001b[0m \u001b[0mf\u001b[0m\u001b[0;34m[\u001b[0m\u001b[0;34m'model_weights'\u001b[0m\u001b[0;34m]\u001b[0m\u001b[0;34m\u001b[0m\u001b[0;34m\u001b[0m\u001b[0m\n",
      "\u001b[0;32m/opt/conda/lib/python3.7/site-packages/h5py/_hl/files.py\u001b[0m in \u001b[0;36m__init__\u001b[0;34m(self, name, mode, driver, libver, userblock_size, swmr, rdcc_nslots, rdcc_nbytes, rdcc_w0, track_order, **kwds)\u001b[0m\n\u001b[1;32m    406\u001b[0m                 fid = make_fid(name, mode, userblock_size,\n\u001b[1;32m    407\u001b[0m                                \u001b[0mfapl\u001b[0m\u001b[0;34m,\u001b[0m \u001b[0mfcpl\u001b[0m\u001b[0;34m=\u001b[0m\u001b[0mmake_fcpl\u001b[0m\u001b[0;34m(\u001b[0m\u001b[0mtrack_order\u001b[0m\u001b[0;34m=\u001b[0m\u001b[0mtrack_order\u001b[0m\u001b[0;34m)\u001b[0m\u001b[0;34m,\u001b[0m\u001b[0;34m\u001b[0m\u001b[0;34m\u001b[0m\u001b[0m\n\u001b[0;32m--> 408\u001b[0;31m                                swmr=swmr)\n\u001b[0m\u001b[1;32m    409\u001b[0m \u001b[0;34m\u001b[0m\u001b[0m\n\u001b[1;32m    410\u001b[0m             \u001b[0;32mif\u001b[0m \u001b[0misinstance\u001b[0m\u001b[0;34m(\u001b[0m\u001b[0mlibver\u001b[0m\u001b[0;34m,\u001b[0m \u001b[0mtuple\u001b[0m\u001b[0;34m)\u001b[0m\u001b[0;34m:\u001b[0m\u001b[0;34m\u001b[0m\u001b[0;34m\u001b[0m\u001b[0m\n",
      "\u001b[0;32m/opt/conda/lib/python3.7/site-packages/h5py/_hl/files.py\u001b[0m in \u001b[0;36mmake_fid\u001b[0;34m(name, mode, userblock_size, fapl, fcpl, swmr)\u001b[0m\n\u001b[1;32m    171\u001b[0m         \u001b[0;32mif\u001b[0m \u001b[0mswmr\u001b[0m \u001b[0;32mand\u001b[0m \u001b[0mswmr_support\u001b[0m\u001b[0;34m:\u001b[0m\u001b[0;34m\u001b[0m\u001b[0;34m\u001b[0m\u001b[0m\n\u001b[1;32m    172\u001b[0m             \u001b[0mflags\u001b[0m \u001b[0;34m|=\u001b[0m \u001b[0mh5f\u001b[0m\u001b[0;34m.\u001b[0m\u001b[0mACC_SWMR_READ\u001b[0m\u001b[0;34m\u001b[0m\u001b[0;34m\u001b[0m\u001b[0m\n\u001b[0;32m--> 173\u001b[0;31m         \u001b[0mfid\u001b[0m \u001b[0;34m=\u001b[0m \u001b[0mh5f\u001b[0m\u001b[0;34m.\u001b[0m\u001b[0mopen\u001b[0m\u001b[0;34m(\u001b[0m\u001b[0mname\u001b[0m\u001b[0;34m,\u001b[0m \u001b[0mflags\u001b[0m\u001b[0;34m,\u001b[0m \u001b[0mfapl\u001b[0m\u001b[0;34m=\u001b[0m\u001b[0mfapl\u001b[0m\u001b[0;34m)\u001b[0m\u001b[0;34m\u001b[0m\u001b[0;34m\u001b[0m\u001b[0m\n\u001b[0m\u001b[1;32m    174\u001b[0m     \u001b[0;32melif\u001b[0m \u001b[0mmode\u001b[0m \u001b[0;34m==\u001b[0m \u001b[0;34m'r+'\u001b[0m\u001b[0;34m:\u001b[0m\u001b[0;34m\u001b[0m\u001b[0;34m\u001b[0m\u001b[0m\n\u001b[1;32m    175\u001b[0m         \u001b[0mfid\u001b[0m \u001b[0;34m=\u001b[0m \u001b[0mh5f\u001b[0m\u001b[0;34m.\u001b[0m\u001b[0mopen\u001b[0m\u001b[0;34m(\u001b[0m\u001b[0mname\u001b[0m\u001b[0;34m,\u001b[0m \u001b[0mh5f\u001b[0m\u001b[0;34m.\u001b[0m\u001b[0mACC_RDWR\u001b[0m\u001b[0;34m,\u001b[0m \u001b[0mfapl\u001b[0m\u001b[0;34m=\u001b[0m\u001b[0mfapl\u001b[0m\u001b[0;34m)\u001b[0m\u001b[0;34m\u001b[0m\u001b[0;34m\u001b[0m\u001b[0m\n",
      "\u001b[0;32mh5py/_objects.pyx\u001b[0m in \u001b[0;36mh5py._objects.with_phil.wrapper\u001b[0;34m()\u001b[0m\n",
      "\u001b[0;32mh5py/_objects.pyx\u001b[0m in \u001b[0;36mh5py._objects.with_phil.wrapper\u001b[0;34m()\u001b[0m\n",
      "\u001b[0;32mh5py/h5f.pyx\u001b[0m in \u001b[0;36mh5py.h5f.open\u001b[0;34m()\u001b[0m\n",
      "\u001b[0;31mOSError\u001b[0m: Unable to open file (unable to open file: name = 'cnn_best_model.h5', errno = 2, error message = 'No such file or directory', flags = 0, o_flags = 0)"
     ]
    }
   ],
   "source": [
    "# run a convolution neural network\n",
    "start_time = time.time()\n",
    "\n",
    "model = Sequential()\n",
    "model.add(Convolution1D(32, (6), activation='relu', input_shape=(X_train.shape[1],1)))\n",
    "model.add(MaxPooling1D(pool_size=(3), strides=(2), padding=\"same\"))\n",
    "model.add(Convolution1D(64, (3), activation='relu'))\n",
    "model.add(MaxPooling1D(pool_size=(2), strides=(2), padding=\"same\"))\n",
    "model.add(Convolution1D(32, (2), activation='relu'))\n",
    "model.add(MaxPooling1D(pool_size=(2), strides=(2), padding=\"same\"))\n",
    "model.add(Flatten())\n",
    "model.add(Dense(100, activation='relu'))\n",
    "model.add(Dense(50, activation='relu'))\n",
    "model.add(Dense(5, activation='softmax'))\n",
    "    \n",
    "model.compile(optimizer='adam', loss='categorical_crossentropy', metrics=['accuracy'])\n",
    "    \n",
    "callbacks = [EarlyStopping(monitor='val_loss', patience=5),\n",
    "             ModelCheckpoint(filepath='cnn_best_model.h5', monitor='val_loss', save_best_only=True)]\n",
    "\n",
    "history=model.fit(X_train, y_train,epochs=40,callbacks=callbacks, batch_size=32)\n",
    "model.load_weights('cnn_best_model.h5')"
   ]
  },
  {
   "cell_type": "code",
   "execution_count": 27,
   "metadata": {
    "execution": {
     "iopub.execute_input": "2020-11-07T12:06:59.570030Z",
     "iopub.status.busy": "2020-11-07T12:06:59.568910Z",
     "iopub.status.idle": "2020-11-07T12:07:02.412986Z",
     "shell.execute_reply": "2020-11-07T12:07:02.413715Z"
    },
    "papermill": {
     "duration": 9.943407,
     "end_time": "2020-11-07T12:07:02.413907",
     "exception": false,
     "start_time": "2020-11-07T12:06:52.470500",
     "status": "completed"
    },
    "tags": []
   },
   "outputs": [
    {
     "name": "stdout",
     "output_type": "stream",
     "text": [
      "685/685 [==============================] - 3s 4ms/step - loss: 0.2083 - accuracy: 0.9736\n",
      "Test accuracy is: 97.36%\n",
      "Execution time:  11.948495535055796 minutes\n"
     ]
    }
   ],
   "source": [
    "print('Test accuracy is: %.2f%%' %(model.evaluate((X_test),y_test)[1]*100))\n",
    "print(\"Execution time: \", (time.time() - start_time)/60,'minutes')"
   ]
  },
  {
   "cell_type": "code",
   "execution_count": 28,
   "metadata": {
    "execution": {
     "iopub.execute_input": "2020-11-07T12:07:16.628062Z",
     "iopub.status.busy": "2020-11-07T12:07:16.626545Z",
     "iopub.status.idle": "2020-11-07T12:07:16.637085Z",
     "shell.execute_reply": "2020-11-07T12:07:16.634878Z"
    },
    "papermill": {
     "duration": 7.165426,
     "end_time": "2020-11-07T12:07:16.637401",
     "exception": false,
     "start_time": "2020-11-07T12:07:09.471975",
     "status": "completed"
    },
    "tags": []
   },
   "outputs": [
    {
     "name": "stdout",
     "output_type": "stream",
     "text": [
      "Model: \"sequential_1\"\n",
      "_________________________________________________________________\n",
      "Layer (type)                 Output Shape              Param #   \n",
      "=================================================================\n",
      "conv1d (Conv1D)              (None, 182, 32)           224       \n",
      "_________________________________________________________________\n",
      "max_pooling1d (MaxPooling1D) (None, 91, 32)            0         \n",
      "_________________________________________________________________\n",
      "conv1d_1 (Conv1D)            (None, 89, 64)            6208      \n",
      "_________________________________________________________________\n",
      "max_pooling1d_1 (MaxPooling1 (None, 45, 64)            0         \n",
      "_________________________________________________________________\n",
      "conv1d_2 (Conv1D)            (None, 44, 32)            4128      \n",
      "_________________________________________________________________\n",
      "max_pooling1d_2 (MaxPooling1 (None, 22, 32)            0         \n",
      "_________________________________________________________________\n",
      "flatten (Flatten)            (None, 704)               0         \n",
      "_________________________________________________________________\n",
      "dense_6 (Dense)              (None, 100)               70500     \n",
      "_________________________________________________________________\n",
      "dense_7 (Dense)              (None, 50)                5050      \n",
      "_________________________________________________________________\n",
      "dense_8 (Dense)              (None, 5)                 255       \n",
      "=================================================================\n",
      "Total params: 86,365\n",
      "Trainable params: 86,365\n",
      "Non-trainable params: 0\n",
      "_________________________________________________________________\n"
     ]
    }
   ],
   "source": [
    "model.summary()"
   ]
  },
  {
   "cell_type": "code",
   "execution_count": 29,
   "metadata": {
    "execution": {
     "iopub.execute_input": "2020-11-07T12:07:30.787064Z",
     "iopub.status.busy": "2020-11-07T12:07:30.786321Z",
     "iopub.status.idle": "2020-11-07T12:07:33.335811Z",
     "shell.execute_reply": "2020-11-07T12:07:33.335049Z"
    },
    "papermill": {
     "duration": 9.676981,
     "end_time": "2020-11-07T12:07:33.335948",
     "exception": false,
     "start_time": "2020-11-07T12:07:23.658967",
     "status": "completed"
    },
    "tags": []
   },
   "outputs": [
    {
     "data": {
      "text/plain": [
       "array([[17741,   230,   101,    32,    14],\n",
       "       [   76,   464,     9,     6,     1],\n",
       "       [   30,     9,  1387,    17,     5],\n",
       "       [   10,     2,    15,   135,     0],\n",
       "       [   15,     1,     6,     0,  1586]])"
      ]
     },
     "execution_count": 29,
     "metadata": {},
     "output_type": "execute_result"
    }
   ],
   "source": [
    "# Compute confusion matrix\n",
    "cnf_matrix = confusion_matrix(y_test.argmax(axis=1), model.predict(X_test).argmax(axis=1))\n",
    "np.set_printoptions(precision=2)\n",
    "cnf_matrix"
   ]
  },
  {
   "cell_type": "code",
   "execution_count": 30,
   "metadata": {
    "execution": {
     "iopub.execute_input": "2020-11-07T12:07:48.206199Z",
     "iopub.status.busy": "2020-11-07T12:07:48.205000Z",
     "iopub.status.idle": "2020-11-07T12:07:48.469844Z",
     "shell.execute_reply": "2020-11-07T12:07:48.470484Z"
    },
    "papermill": {
     "duration": 7.885188,
     "end_time": "2020-11-07T12:07:48.470645",
     "exception": false,
     "start_time": "2020-11-07T12:07:40.585457",
     "status": "completed"
    },
    "tags": []
   },
   "outputs": [
    {
     "data": {
      "image/png": "[encoded data removed]",
      "text/plain": [
       "<Figure size 720x720 with 1 Axes>"
      ]
     },
     "metadata": {
      "needs_background": "light"
     },
     "output_type": "display_data"
    }
   ],
   "source": [
    "# Plot non-normalized confusion matrix\n",
    "def plot_confusion_matrix(cm, classes,normalize=False,cmap=\"YlGnBu\"):\n",
    "    plt.imshow(cm, interpolation='nearest', cmap=cmap)\n",
    "    acc = \"{:.2f}\".format(np.trace(cnf_matrix)/np.sum(cnf_matrix)*100)\n",
    "    plt.title('Confusion matrix \\n Classification accuracy is: ' + str(acc)+'%')\n",
    "    tick_marks = np.arange(len(classes))\n",
    "    plt.xticks(tick_marks, classes, rotation=45)\n",
    "    plt.yticks(tick_marks, classes)\n",
    "\n",
    "    fmt = '.2f' if normalize else 'd'\n",
    "    thresh = cm.max() / 2.\n",
    "    for i, j in itertools.product(range(cm.shape[0]), range(cm.shape[1])):\n",
    "        plt.text(j, i, format(cm[i, j], fmt),\n",
    "                 horizontalalignment=\"center\",\n",
    "                 color=\"white\" if cm[i, j] > thresh else \"black\")\n",
    "\n",
    "    plt.tight_layout()\n",
    "    plt.ylabel('True label')\n",
    "    plt.xlabel('Predicted label')\n",
    "    \n",
    "plt.figure(figsize=(10, 10))\n",
    "plot_confusion_matrix(cnf_matrix, classes=label,normalize=False)\n",
    "plt.show()"
   ]
  },
  {
   "cell_type": "code",
   "execution_count": 31,
   "metadata": {
    "execution": {
     "iopub.execute_input": "2020-11-07T12:08:02.814929Z",
     "iopub.status.busy": "2020-11-07T12:08:02.813972Z",
     "iopub.status.idle": "2020-11-07T12:08:05.242389Z",
     "shell.execute_reply": "2020-11-07T12:08:05.241589Z"
    },
    "papermill": {
     "duration": 9.597341,
     "end_time": "2020-11-07T12:08:05.242524",
     "exception": false,
     "start_time": "2020-11-07T12:07:55.645183",
     "status": "completed"
    },
    "tags": []
   },
   "outputs": [],
   "source": [
    "y_pred = model.predict(X_test)"
   ]
  },
  {
   "cell_type": "code",
   "execution_count": 32,
   "metadata": {
    "execution": {
     "iopub.execute_input": "2020-11-07T12:08:19.685281Z",
     "iopub.status.busy": "2020-11-07T12:08:19.684207Z",
     "iopub.status.idle": "2020-11-07T12:08:19.698436Z",
     "shell.execute_reply": "2020-11-07T12:08:19.697100Z"
    },
    "papermill": {
     "duration": 7.258642,
     "end_time": "2020-11-07T12:08:19.698615",
     "exception": false,
     "start_time": "2020-11-07T12:08:12.439973",
     "status": "completed"
    },
    "tags": []
   },
   "outputs": [
    {
     "name": "stdout",
     "output_type": "stream",
     "text": [
      "Precision : 97.646%\n",
      "Recall : 97.355%\n",
      "F1 score : 97.463%\n"
     ]
    }
   ],
   "source": [
    "y_temp = np.argmax(y_pred, axis=1)\n",
    "y_real = np.argmax(y_test, axis=1)\n",
    "precision,recall,fscore,support = precision_recall_fscore_support(y_real, y_temp, average='weighted')\n",
    "print('Precision : %.3f%%' % (precision*100))\n",
    "print('Recall : %.3f%%' % (recall*100))\n",
    "print('F1 score : %.3f%%' % (fscore*100))"
   ]
  },
  {
   "cell_type": "code",
   "execution_count": null,
   "metadata": {
    "papermill": {
     "duration": 7.15089,
     "end_time": "2020-11-07T12:08:33.958909",
     "exception": false,
     "start_time": "2020-11-07T12:08:26.808019",
     "status": "completed"
    },
    "tags": []
   },
   "outputs": [],
   "source": []
  }
 ],
 "metadata": {
  "kernelspec": {
   "display_name": "Python 3",
   "language": "python",
   "name": "python3"
  },
  "language_info": {
   "codemirror_mode": {
    "name": "ipython",
    "version": 3
   },
   "file_extension": ".py",
   "mimetype": "text/x-python",
   "name": "python",
   "nbconvert_exporter": "python",
   "pygments_lexer": "ipython3",
   "version": "3.7.6"
  },
  "papermill": {
   "duration": 1457.585909,
   "end_time": "2020-11-07T12:08:42.369188",
   "environment_variables": {},
   "exception": null,
   "input_path": "__notebook__.ipynb",
   "output_path": "__notebook__.ipynb",
   "parameters": {},
   "start_time": "2020-11-07T11:44:24.783279",
   "version": "2.1.0"
  }
 },
 "nbformat": 4,
 "nbformat_minor": 4
}
